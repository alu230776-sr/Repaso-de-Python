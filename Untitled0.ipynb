{
  "nbformat": 4,
  "nbformat_minor": 0,
  "metadata": {
    "colab": {
      "provenance": [],
      "authorship_tag": "ABX9TyPNkeUACGnOf+0swIFnkP+f",
      "include_colab_link": true
    },
    "kernelspec": {
      "name": "python3",
      "display_name": "Python 3"
    },
    "language_info": {
      "name": "python"
    }
  },
  "cells": [
    {
      "cell_type": "markdown",
      "metadata": {
        "id": "view-in-github",
        "colab_type": "text"
      },
      "source": [
        "<a href=\"https://colab.research.google.com/github/alu230776-sr/Repaso-de-Python/blob/main/Untitled0.ipynb\" target=\"_parent\"><img src=\"https://colab.research.google.com/assets/colab-badge.svg\" alt=\"Open In Colab\"/></a>"
      ]
    },
    {
      "cell_type": "markdown",
      "source": [
        "Realiza un programa que permita capturar 2 numeros enteros e imprima la suma, la resta, la multiplicacion y division entre ellos"
      ],
      "metadata": {
        "id": "IpVSjzmsFCrR"
      }
    },
    {
      "cell_type": "code",
      "execution_count": 1,
      "metadata": {
        "colab": {
          "base_uri": "https://localhost:8080/"
        },
        "id": "3-XE8HWpE1XD",
        "outputId": "3a1119da-5b8a-4d12-b8b4-a61375181806"
      },
      "outputs": [
        {
          "output_type": "stream",
          "name": "stdout",
          "text": [
            "Captura el primer numero: 10\n",
            "Captura el primer numero: 5\n",
            "La suma es:  15\n",
            "La resta es:  5\n",
            "La multiplicacion es:  50\n",
            "La division es:  2.0\n"
          ]
        }
      ],
      "source": [
        "num1 = int(input(\"Captura el primer numero: \"))\n",
        "num2 = int(input(\"Captura el primer numero: \"))\n",
        "print(\"La suma es: \", num1 + num2)\n",
        "print(\"La resta es: \", num1 - num2)\n",
        "print(\"La multiplicacion es: \", num1 * num2)\n",
        "print(\"La division es: \", num1 / num2)"
      ]
    },
    {
      "cell_type": "markdown",
      "source": [
        "Realizar un programa que permita capturar tu nombre y lo imprima seguido de una bienvenida"
      ],
      "metadata": {
        "id": "Jb9GF8nrFLg2"
      }
    },
    {
      "cell_type": "code",
      "source": [
        "Nombre = input(\"Escribe tu nombre: \")\n",
        "print(\"Bienvenido!!\")\n",
        "print(\"Tu nombre es:\", Nombre)"
      ],
      "metadata": {
        "colab": {
          "base_uri": "https://localhost:8080/"
        },
        "id": "htAKXlI_FR2X",
        "outputId": "f833cb18-2fbc-4867-d26d-0f779714e839"
      },
      "execution_count": 2,
      "outputs": [
        {
          "output_type": "stream",
          "name": "stdout",
          "text": [
            "Escribe tu nombre: Luis\n",
            "Bienvenido!!\n",
            "Tu nombre es: Luis\n"
          ]
        }
      ]
    }
  ]
}