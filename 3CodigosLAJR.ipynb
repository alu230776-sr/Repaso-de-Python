{
  "nbformat": 4,
  "nbformat_minor": 0,
  "metadata": {
    "colab": {
      "provenance": [],
      "authorship_tag": "ABX9TyOipJ4tmh1A1ovB3TxBKq/B",
      "include_colab_link": true
    },
    "kernelspec": {
      "name": "python3",
      "display_name": "Python 3"
    },
    "language_info": {
      "name": "python"
    }
  },
  "cells": [
    {
      "cell_type": "markdown",
      "metadata": {
        "id": "view-in-github",
        "colab_type": "text"
      },
      "source": [
        "<a href=\"https://colab.research.google.com/github/alu230776-sr/Repaso-de-Python/blob/main/3CodigosLAJR.ipynb\" target=\"_parent\"><img src=\"https://colab.research.google.com/assets/colab-badge.svg\" alt=\"Open In Colab\"/></a>"
      ]
    },
    {
      "cell_type": "markdown",
      "source": [
        "1.- Realizar un programa en python que te permita capturar 3 números enteros e imprima cual de los 3 es el mayor"
      ],
      "metadata": {
        "id": "mC5J-7oo_RMj"
      }
    },
    {
      "cell_type": "code",
      "source": [
        "print(\"Programa que te permite capturar 3 números enteros e imprima cual de los 3 es el mayor\")\n",
        "numero1 = int(input(\"Ingresa el primer número: \"))\n",
        "numero2 = int(input(\"Ingresa el segundo número: \"))\n",
        "numero3 = int(input(\"Ingresa el tercer número: \"))\n",
        "if numero1 > numero2 and numero3:\n",
        "  print(\"El número mayor es:\", numero1)\n",
        "elif numero2 > numero1 and numero3:\n",
        "  print(\"El numero mayor es: \", numero2)\n",
        "elif numero3 > numero1 and numero2:\n",
        "  print(\"El numero mayor es: \", numero3)\n",
        "else:\n",
        "  print(\"Los números son iguales\")\n",
        "\n",
        ""
      ],
      "metadata": {
        "colab": {
          "base_uri": "https://localhost:8080/"
        },
        "id": "9twJTTmP_XbJ",
        "outputId": "5b07d630-a2bc-4d77-da74-752ae4eb19a6"
      },
      "execution_count": 3,
      "outputs": [
        {
          "output_type": "stream",
          "name": "stdout",
          "text": [
            "Programa que te permite capturar 3 números enteros e imprima cual de los 3 es el mayor\n",
            "Ingresa el primer número: 5\n",
            "Ingresa el segundo número: 9\n",
            "Ingresa el tercer número: 2\n",
            "El numero mayor es:  9\n"
          ]
        }
      ]
    },
    {
      "cell_type": "markdown",
      "source": [
        "2.- Realizar un programa en python mediante el cual calcules el total de caracteres que tiene un nombre capturado desde el teclado."
      ],
      "metadata": {
        "id": "FO89t4ynByh5"
      }
    },
    {
      "cell_type": "code",
      "source": [
        "Nombre = input(\"Ingresa tu nombre: \")\n",
        "print(\"El nombre tiene\", len(Nombre), \"caracteres\")"
      ],
      "metadata": {
        "colab": {
          "base_uri": "https://localhost:8080/"
        },
        "id": "r3TbQXlfCArw",
        "outputId": "697c3bc4-b1fc-40c9-eeb9-b18e02615672"
      },
      "execution_count": 5,
      "outputs": [
        {
          "output_type": "stream",
          "name": "stdout",
          "text": [
            "Ingresa tu nombre: Alejandro\n",
            "El nombre tiene 9 caracteres\n"
          ]
        }
      ]
    },
    {
      "cell_type": "markdown",
      "source": [
        "3.- Realizar un programa en python que permita imprimir los 7 días de la semana."
      ],
      "metadata": {
        "id": "K4K3mDygCPNH"
      }
    },
    {
      "cell_type": "code",
      "source": [
        "print(\"Programa que permite imprimir los 7 días de la semana\")\n",
        "print(\"Lunes\")\n",
        "print(\"Martes\")\n",
        "print(\"Miércoles\")\n",
        "print(\"Jueves\")\n",
        "print(\"Viernes\")\n",
        "print(\"Sábado\")\n",
        "print(\"Domingo\")"
      ],
      "metadata": {
        "colab": {
          "base_uri": "https://localhost:8080/"
        },
        "id": "IWpvis3SCgYW",
        "outputId": "ab0c6ea7-e21b-4848-80b0-3a80959ed29e"
      },
      "execution_count": 6,
      "outputs": [
        {
          "output_type": "stream",
          "name": "stdout",
          "text": [
            "Programa que permite imprimir los 7 días de la semana\n",
            "Lunes\n",
            "Martes\n",
            "Miércoles\n",
            "Jueves\n",
            "Viernes\n",
            "Sábado\n",
            "Domingo\n"
          ]
        }
      ]
    }
  ]
}